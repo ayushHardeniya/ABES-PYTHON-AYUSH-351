{
 "cells": [
  {
   "cell_type": "markdown",
   "id": "0c9d1847",
   "metadata": {},
   "source": [
    "Day - 5 (match case)"
   ]
  },
  {
   "cell_type": "markdown",
   "id": "dd0dfe8c",
   "metadata": {},
   "source": [
    "match case is similar to switch in C or C++, almost similar format and same job"
   ]
  },
  {
   "cell_type": "code",
   "execution_count": 2,
   "id": "34578f80",
   "metadata": {},
   "outputs": [
    {
     "name": "stdout",
     "output_type": "stream",
     "text": [
      "Friday\n"
     ]
    }
   ],
   "source": [
    "day=5\n",
    "match day:\n",
    "    case 1:\n",
    "        print(\"Monday\")\n",
    "    case 2:\n",
    "        print(\"Tuesday\")\n",
    "    case 3:\n",
    "        print(\"Wednesday\")\n",
    "    case 4:\n",
    "        print(\"Thursday\")\n",
    "    case 5:\n",
    "        print(\"Friday\")\n",
    "    case 6:\n",
    "        print(\"Saturday\")\n",
    "    case 7:\n",
    "        print(\"Sunday\")\n"
   ]
  },
  {
   "cell_type": "markdown",
   "id": "fb5da1a7",
   "metadata": {},
   "source": [
    "Loops"
   ]
  },
  {
   "cell_type": "markdown",
   "id": "99165377",
   "metadata": {},
   "source": [
    "Python have only (while) and (for) loop, it doesn't persist do while loop..."
   ]
  },
  {
   "cell_type": "code",
   "execution_count": null,
   "id": "80d5497a",
   "metadata": {},
   "outputs": [
    {
     "ename": "SyntaxError",
     "evalue": "expected ':' (2193973307.py, line 2)",
     "output_type": "error",
     "traceback": [
      "  \u001b[36mCell\u001b[39m\u001b[36m \u001b[39m\u001b[32mIn[7]\u001b[39m\u001b[32m, line 2\u001b[39m\n\u001b[31m    \u001b[39m\u001b[31mwhile (i<10)\u001b[39m\n                ^\n\u001b[31mSyntaxError\u001b[39m\u001b[31m:\u001b[39m expected ':'\n"
     ]
    }
   ],
   "source": [
    "i=1\n",
    "while (i<10):\n",
    "    print(i)\n",
    "\n"
   ]
  }
 ],
 "metadata": {
  "kernelspec": {
   "display_name": "Python 3",
   "language": "python",
   "name": "python3"
  },
  "language_info": {
   "codemirror_mode": {
    "name": "ipython",
    "version": 3
   },
   "file_extension": ".py",
   "mimetype": "text/x-python",
   "name": "python",
   "nbconvert_exporter": "python",
   "pygments_lexer": "ipython3",
   "version": "3.13.7"
  }
 },
 "nbformat": 4,
 "nbformat_minor": 5
}
